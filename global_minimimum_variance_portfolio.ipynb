{
 "cells": [
  {
   "cell_type": "code",
   "execution_count": 1,
   "metadata": {},
   "outputs": [],
   "source": [
    "import numpy as np\n",
    "from scipy.optimize import minimize"
   ]
  },
  {
   "cell_type": "markdown",
   "metadata": {},
   "source": [
    "Data generation of 10 assets."
   ]
  },
  {
   "cell_type": "code",
   "execution_count": 2,
   "metadata": {},
   "outputs": [],
   "source": [
    "n_assests = 10\n",
    "A = np.random.randn(n_assests, n_assests)\n",
    "covariance_matrix = np.dot(A, A.transpose())\n",
    "expected_returns = np.random.randn(n_assests)"
   ]
  },
  {
   "cell_type": "markdown",
   "metadata": {},
   "source": [
    "Global minimum variance portfolio using closed form solution. "
   ]
  },
  {
   "cell_type": "code",
   "execution_count": 3,
   "metadata": {},
   "outputs": [
    {
     "data": {
      "text/plain": [
       "array([[0.43268911]])"
      ]
     },
     "execution_count": 3,
     "metadata": {},
     "output_type": "execute_result"
    }
   ],
   "source": [
    "inv_cov = np.linalg.inv(covariance_matrix)\n",
    "ones = np.ones((len(expected_returns), 1))\n",
    "w1 = (inv_cov @ ones ) / (ones.T @ inv_cov @ ones)\n",
    "var1 = (w1.T @ covariance_matrix @ w1)\n",
    "std1 = np.sqrt(var1)\n",
    "\n",
    "std1"
   ]
  },
  {
   "cell_type": "markdown",
   "metadata": {},
   "source": [
    "Optimize portfolio variance with weights summing to one. It supports optional long-only and custom constraints. Returns optimal weights, expected return, and volatility."
   ]
  },
  {
   "cell_type": "code",
   "execution_count": 5,
   "metadata": {},
   "outputs": [],
   "source": [
    "def optimize_portfolio(covariance_matrix, expected_returns, \n",
    "                        extra_constraints=None, bounds=None):\n",
    "    \n",
    "    n = len(expected_returns)\n",
    "\n",
    "    def portfolio_variance (w):\n",
    "        return w.T @ covariance_matrix @ w\n",
    "\n",
    "    w0 = np.ones(n) / n\n",
    "\n",
    "    # normalize\n",
    "    constraints = [{\n",
    "        'type': 'eq',\n",
    "        'fun': lambda w: np.sum(w) - 1 \n",
    "    }]\n",
    "\n",
    "    if extra_constraints is not None:\n",
    "        constraints += extra_constraints\n",
    "\n",
    "    if bounds is not None:\n",
    "        bounds1 = [(bounds[0], bounds[1]) for _ in range(n_assests)]\n",
    "    else:\n",
    "        bounds1 = bounds\n",
    "\n",
    "    result = minimize(portfolio_variance, w0, constraints=constraints, bounds=bounds1)\n",
    "\n",
    "    if not result.success:\n",
    "        raise ValueError(\"Optimization failed: \" + result.message)\n",
    "\n",
    "    w = result.x\n",
    "    mu = w.T @ expected_returns\n",
    "    var = w.T @ covariance_matrix @ w\n",
    "    std = np.sqrt(var)\n",
    "\n",
    "    return w, mu, std\n"
   ]
  },
  {
   "cell_type": "markdown",
   "metadata": {},
   "source": [
    "Long-only, weights are at least 5%, aggregate weigths of first 3 assests below 20%."
   ]
  },
  {
   "cell_type": "code",
   "execution_count": 6,
   "metadata": {},
   "outputs": [
    {
     "data": {
      "text/plain": [
       "(array([0.06594064, 0.05      , 0.08405936, 0.21538766, 0.14102446,\n",
       "        0.05      , 0.09754094, 0.05      , 0.16855592, 0.07749102]),\n",
       " -0.12887072646290582,\n",
       " 0.49779678447461423)"
      ]
     },
     "execution_count": 6,
     "metadata": {},
     "output_type": "execute_result"
    }
   ],
   "source": [
    "n = len(expected_returns)\n",
    "\n",
    "bounds = [0.0, 1.0]\n",
    "\n",
    "min_weight = [{\n",
    "    'type': 'ineq',\n",
    "    'fun': lambda w, i=i: w[i] - 0.05} for i in range(n)\n",
    "]\n",
    "\n",
    "aggragate_sum = [{\n",
    "    'type': 'ineq',\n",
    "    'fun': lambda w: 0.20 - np.sum(w[0:3])\n",
    "}]\n",
    "\n",
    "extra_constraints = aggragate_sum + min_weight\n",
    "\n",
    "optimize_portfolio(covariance_matrix=covariance_matrix,\n",
    "                    expected_returns=expected_returns, \n",
    "                    bounds=bounds, extra_constraints=extra_constraints)"
   ]
  }
 ],
 "metadata": {
  "kernelspec": {
   "display_name": "Python 3",
   "language": "python",
   "name": "python3"
  },
  "language_info": {
   "codemirror_mode": {
    "name": "ipython",
    "version": 3
   },
   "file_extension": ".py",
   "mimetype": "text/x-python",
   "name": "python",
   "nbconvert_exporter": "python",
   "pygments_lexer": "ipython3",
   "version": "3.9.6"
  }
 },
 "nbformat": 4,
 "nbformat_minor": 2
}
