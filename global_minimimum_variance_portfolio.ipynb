{
 "cells": [
  {
   "cell_type": "code",
   "execution_count": 21,
   "metadata": {},
   "outputs": [],
   "source": [
    "import numpy as np\n",
    "import scipy"
   ]
  },
  {
   "cell_type": "code",
   "execution_count": 172,
   "metadata": {},
   "outputs": [],
   "source": [
    "n_assests = 10\n",
    "A = np.random.randn(n_assests, n_assests)\n",
    "covariance_matrix = np.dot(A, A.transpose())\n",
    "expected_returns = np.random.randn(n_assests)"
   ]
  },
  {
   "cell_type": "code",
   "execution_count": 201,
   "metadata": {},
   "outputs": [
    {
     "data": {
      "text/plain": [
       "array([[ 0.1223225 ],\n",
       "       [ 0.11346039],\n",
       "       [ 0.29431085],\n",
       "       [ 0.30291061],\n",
       "       [ 0.0820345 ],\n",
       "       [-0.07932435],\n",
       "       [ 0.3586077 ],\n",
       "       [ 0.12011842],\n",
       "       [-0.31880751],\n",
       "       [ 0.00436687]])"
      ]
     },
     "execution_count": 201,
     "metadata": {},
     "output_type": "execute_result"
    }
   ],
   "source": [
    "inv_cov = scipy.linalg.inv(covariance_matrix)\n",
    "ones = np.ones((len(expected_returns), 1))\n",
    "\n",
    "gmvp_w1 = (inv_cov @ ones) / (ones.transpose() @ inv_cov @ ones)\n",
    "gmvp_var1 = gmvp_w1.transpose() @ covariance_matrix @ gmvp_w1\n",
    "gmvp_std1 = np.sqrt(gmvp_var1)\n",
    "gmvp_mu1 = gmvp_w1.transpose() @ expected_returns\n",
    "\n",
    "gmvp_w1"
   ]
  },
  {
   "cell_type": "code",
   "execution_count": 263,
   "metadata": {},
   "outputs": [
    {
     "data": {
      "text/plain": [
       "0.5418899231200734"
      ]
     },
     "execution_count": 263,
     "metadata": {},
     "output_type": "execute_result"
    }
   ],
   "source": [
    "n = len(expected_returns)  # (n,) shape\n",
    "\n",
    "def variance(w):\n",
    "    return w.T @ covariance_matrix @ w\n",
    "\n",
    "# fun is a SciPy convention for objective functions, it is a 'equality' 'type' where it tries to equal to 0\n",
    "constraints = [{\n",
    "    'type': 'eq',\n",
    "    'fun': lambda x: np.sum(x) - 1\n",
    "}]\n",
    "\n",
    "# initial guess\n",
    "w0 = np.ones(n) / n\n",
    "\n",
    "result1 = scipy.optimize.minimize(variance, w0, constraints=constraints)\n",
    "\n",
    "w1 = result1.x\n",
    "mu1 = w1.T @ expected_returns\n",
    "var1 = w1.T @ covariance_matrix @ w1\n",
    "std1 = np.sqrt(var1)\n",
    "\n",
    "mu1"
   ]
  },
  {
   "cell_type": "code",
   "execution_count": 259,
   "metadata": {},
   "outputs": [
    {
     "data": {
      "text/plain": [
       "0.037558009901985726"
      ]
     },
     "execution_count": 259,
     "metadata": {},
     "output_type": "execute_result"
    }
   ],
   "source": [
    "\n",
    "bounds = [(0.0, 1.0) for _ in range(n)]\n",
    "\n",
    "result2 = scipy.optimize.minimize(variance, w0, constraints=constraints, bounds=bounds)\n",
    "\n",
    "w2 = result2.x\n",
    "mu2 = w2.T @ expected_returns\n",
    "var2 = w2.T @ covariance_matrix @ w2\n",
    "std2 = np.sqrt(var2)\n",
    "\n",
    "mu2"
   ]
  },
  {
   "cell_type": "code",
   "execution_count": 256,
   "metadata": {},
   "outputs": [
    {
     "data": {
      "text/plain": [
       "1"
      ]
     },
     "execution_count": 256,
     "metadata": {},
     "output_type": "execute_result"
    }
   ],
   "source": [
    "np.sum(w2 <= 0.0)"
   ]
  },
  {
   "cell_type": "code",
   "execution_count": 258,
   "metadata": {},
   "outputs": [
    {
     "data": {
      "text/plain": [
       "0.12974242626391141"
      ]
     },
     "execution_count": 258,
     "metadata": {},
     "output_type": "execute_result"
    }
   ],
   "source": [
    "bounds = [(0.05, 1.0) for _ in range(n)]\n",
    "\n",
    "result3 = scipy.optimize.minimize(variance, w0, constraints=constraints, bounds=bounds)\n",
    "\n",
    "w3 = result3.x\n",
    "mu3 = w3.T @ expected_returns\n",
    "var3 = w3.T @ covariance_matrix @ w3\n",
    "std3 = np.sqrt(var3)\n",
    "\n",
    "mu3"
   ]
  },
  {
   "cell_type": "code",
   "execution_count": 291,
   "metadata": {},
   "outputs": [
    {
     "data": {
      "text/plain": [
       "'Optimizaiton failed: Positive directional derivative for linesearch'"
      ]
     },
     "execution_count": 291,
     "metadata": {},
     "output_type": "execute_result"
    }
   ],
   "source": [
    "long_constraints = [{\n",
    "    'type': 'ineq',\n",
    "    'fun': lambda w, i=i: w[i] - 1.05} for i in range(n)\n",
    "]\n",
    "\n",
    "constraints += long_constraints\n",
    "\n",
    "result3 = scipy.optimize.minimize(variance, w0, constraints=constraints)\n",
    "\n",
    "w3 = result3.x\n",
    "mu3 = w3.T @ expected_returns\n",
    "var3 = w3.T @ covariance_matrix @ w3\n",
    "std3 = np.sqrt(var3)\n",
    "\n",
    "mu3\n",
    "\n",
    "'Optimizaiton failed: ' + result3.message\n"
   ]
  },
  {
   "cell_type": "code",
   "execution_count": null,
   "metadata": {},
   "outputs": [],
   "source": [
    "sum_limit_constraint = [{'type': 'ineq', 'fun': lambda w: 0.20 - (w[0] +w[1] + w[2])}]\n",
    "con"
   ]
  },
  {
   "cell_type": "code",
   "execution_count": 266,
   "metadata": {},
   "outputs": [],
   "source": [
    "constraints += sum_limit_constraint\n",
    "\n",
    "result3 = scipy.optimize.minimize(variance, w0, constraints=constraints)\n",
    "\n",
    "w3 = result3.x\n",
    "mu3 = w3.T @ expected_returns\n",
    "var3 = w3.T @ covariance_matrix @ w3\n",
    "std3 = np.sqrt(var3)\n"
   ]
  },
  {
   "cell_type": "code",
   "execution_count": 271,
   "metadata": {},
   "outputs": [],
   "source": [
    "def optimize_portfolio(covariance_matrix, expected_returns, extra_constraints=None, \n",
    "                       bounds=None, w_min=0.0, w_max=1.0):\n",
    "    \n",
    "    n = len(expected_returns)\n",
    "\n",
    "    def porfolio_variance(w):\n",
    "        return w.T @ covariance_matrix @ w\n",
    "    \n",
    "    # normalize weights\n",
    "    constraints = [{\n",
    "        'type': 'eq',\n",
    "        'fun': lambda w: np.sum(w) - 1\n",
    "    }]\n",
    "\n",
    "    if extra_constraints is not None:\n",
    "        constraints += extra_constraints\n",
    "\n",
    "    if bounds is None:\n",
    "        bounds = [(w_min, w_max) for _ in range(n)]\n",
    "\n",
    "    w0 = np.ones(n) / n\n",
    "\n",
    "    result = scipy.optimize.minimize(porfolio_variance, w0, bounds=bounds, constraints=constraints)\n",
    "\n",
    "    if not result.success:\n",
    "        raise ValueError(\"Optimization failed: \" + result.message)\n",
    "    \n",
    "    weights = result.x\n",
    "    mu = weights @ expected_returns\n",
    "    sigma = np.sqrt(weights.T @ covariance_matrix @ weights)\n",
    "\n",
    "    return weights, mu, sigma\n",
    "\n",
    "\n"
   ]
  },
  {
   "cell_type": "code",
   "execution_count": 276,
   "metadata": {},
   "outputs": [
    {
     "data": {
      "text/plain": [
       "(array([0.05      , 0.14641986, 0.18081622, 0.05      , 0.10097247,\n",
       "        0.10506397, 0.19641179, 0.05      , 0.05      , 0.07031569]),\n",
       " 0.12974242626391141,\n",
       " 0.6043271761691169)"
      ]
     },
     "execution_count": 276,
     "metadata": {},
     "output_type": "execute_result"
    }
   ],
   "source": [
    "bounds = [(0.05, 1.0) for _ in range(n)]\n",
    "\n",
    "optimize_portfolio(covariance_matrix=covariance_matrix, \n",
    "                   expected_returns=expected_returns,\n",
    "                   bounds=bounds)"
   ]
  },
  {
   "cell_type": "code",
   "execution_count": 275,
   "metadata": {},
   "outputs": [
    {
     "data": {
      "text/plain": [
       "(array([4.90192805e-02, 1.49523270e-01, 1.30225778e-01, 0.00000000e+00,\n",
       "        1.56662452e-01, 2.04658783e-01, 1.45246410e-01, 5.37522843e-02,\n",
       "        1.31703459e-16, 1.10911743e-01]),\n",
       " 0.037558009901985726,\n",
       " 0.5016737781891024)"
      ]
     },
     "execution_count": 275,
     "metadata": {},
     "output_type": "execute_result"
    }
   ],
   "source": [
    "bounds = [(0.00, 1.0) for _ in range(n)]\n",
    "\n",
    "optimize_portfolio(covariance_matrix=covariance_matrix, \n",
    "                   expected_returns=expected_returns, \n",
    "                   bounds=bounds)"
   ]
  },
  {
   "cell_type": "code",
   "execution_count": 284,
   "metadata": {},
   "outputs": [],
   "source": [
    "constraints = [{\n",
    "    'type': 'ineq',\n",
    "    'fun': lambda w: 0.20 - (w[0] + w[1] + w[2])\n",
    "}] "
   ]
  },
  {
   "cell_type": "code",
   "execution_count": 285,
   "metadata": {},
   "outputs": [
    {
     "data": {
      "text/plain": [
       "(array([0.05      , 0.08843777, 0.06156223, 0.05      , 0.21617111,\n",
       "        0.156137  , 0.08955817, 0.05      , 0.05      , 0.18813372]),\n",
       " -0.17741938552625003,\n",
       " 0.707649734222466)"
      ]
     },
     "execution_count": 285,
     "metadata": {},
     "output_type": "execute_result"
    }
   ],
   "source": [
    "optimize_portfolio(covariance_matrix=covariance_matrix, \n",
    "                   expected_returns=expected_returns, \n",
    "                   bounds=bounds, extra_constraints=constraints)"
   ]
  },
  {
   "cell_type": "code",
   "execution_count": null,
   "metadata": {},
   "outputs": [],
   "source": []
  }
 ],
 "metadata": {
  "kernelspec": {
   "display_name": "Python 3",
   "language": "python",
   "name": "python3"
  },
  "language_info": {
   "codemirror_mode": {
    "name": "ipython",
    "version": 3
   },
   "file_extension": ".py",
   "mimetype": "text/x-python",
   "name": "python",
   "nbconvert_exporter": "python",
   "pygments_lexer": "ipython3",
   "version": "3.9.6"
  }
 },
 "nbformat": 4,
 "nbformat_minor": 2
}
